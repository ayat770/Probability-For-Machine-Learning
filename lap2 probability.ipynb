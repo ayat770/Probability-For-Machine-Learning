{
 "cells": [
  {
   "cell_type": "markdown",
   "metadata": {},
   "source": [
    "# LAB 2: Indepdenece and Random Variables\n",
    "\n",
    "In this lab you will use python to study the following topics:\n",
    "\n",
    "- Simulate independent events.\n",
    "- Calculate arthemitic mean, sample variance, and sample standard deviation for a dataset."
   ]
  },
  {
   "cell_type": "markdown",
   "metadata": {},
   "source": [
    "# First: you should run this cell"
   ]
  },
  {
   "cell_type": "code",
   "execution_count": 2,
   "metadata": {},
   "outputs": [],
   "source": [
    "# Make all numpy available via shorter 'np' prefix\n",
    "import numpy as np\n",
    "\n",
    "# matplotlib library\n",
    "import matplotlib.pyplot as plt"
   ]
  },
  {
   "cell_type": "markdown",
   "metadata": {},
   "source": [
    "# Problem 1\n",
    "\n",
    "Use NumPy to create simulations and compute **empirical  probability** for the following outcomes. Compare the results with the **theoretical probability**.\n",
    "\n",
    "1. Two fair coin flips produce exactly two heads"
   ]
  },
  {
   "cell_type": "code",
   "execution_count": 2,
   "metadata": {},
   "outputs": [
    {
     "name": "stdout",
     "output_type": "stream",
     "text": [
      "0.250148\n"
     ]
    }
   ],
   "source": [
    "#type your code here:\n",
    "'''\n",
    "In this problem we have two coins and we flip them together so if the two coins gave head at the same time then this is success\n",
    "otheroise is a failure, so if (H+H= success = 1), (H+T = T+H = T+T = failure = 0)\n",
    "We will make this experiment(flipping the two coins) 1000000 times, and count how many times both gave heads together\n",
    "'''\n",
    "sample = np.random.randint(0,2,size=(2,1000000))  # Here we construct the two samples values=(0,1) and each in a single row\n",
    "# samle is an array of two rows and 1000000 clolumn\n",
    "# each row represents a coin so we have two coins and two rows\n",
    "# each column represents an experiment so we did 1000000 experiment and then we have 1000000 columns\n",
    "\n",
    "mutual_occurance = np.sum(sample,axis=0) # Here we make one sample that is the result of summation of rows in the two samples\n",
    "# so we can get the mutual occurance as H=1, T=0 so (H+H=2)=Success , (H+T=T+H=1)=Fail, (T+T=0)fail \n",
    "\n",
    "success = mutual_occurance ==2 # Here we got a success-fail array if the sum of each two elements=2 then true, else gives false\n",
    "# then success now is an array with true and false \n",
    "\n",
    "summation = np.sum(success) # Here we sum all elements where .sum() consider true=1 and false=0 so we got the number \n",
    "#of successes\n",
    "\n",
    "probability = summation / sample.shape[1] #Here we get the probability P=no.of occurance / no.of experiments\n",
    "# Here sample.shape[1] gives us no.of experiments which is the no.of columns = 1000000\n",
    "print(probability) # print answer"
   ]
  },
  {
   "cell_type": "markdown",
   "metadata": {},
   "source": [
    "2. Three fair coin flips produce exactly one head"
   ]
  },
  {
   "cell_type": "code",
   "execution_count": 5,
   "metadata": {},
   "outputs": [
    {
     "name": "stdout",
     "output_type": "stream",
     "text": [
      "[[0 1 0 0 0 0 0 1 1 0 1 0 0 0 0 0 0 0 1 1 1 0 1 0 0 1 0 1 1 1 0 1 0 0 1 0\n",
      "  1 1 1 0 1 0 1 0 1 0 1 1 0 0 1 0 0 0 0 1 0 0 1 0 1 0 0 1 0 1 1 1 0 0 0 0\n",
      "  1 1 1 1 1 0 1 1 1 0 1 0 1 0 0 1 1 0 1 1 1 1 1 0 1 1 1 0]\n",
      " [1 1 0 0 0 1 1 0 1 0 0 0 1 1 0 1 0 0 1 0 0 0 0 1 1 1 0 0 0 0 0 0 0 1 1 0\n",
      "  0 0 0 0 1 1 0 1 0 1 1 0 0 0 0 0 1 1 1 0 0 1 0 1 1 1 0 0 1 0 1 1 1 0 1 1\n",
      "  0 0 1 0 0 1 1 0 0 1 0 0 0 0 0 1 1 0 0 0 1 1 0 0 1 0 0 0]\n",
      " [1 0 0 1 0 1 0 0 1 0 0 1 1 1 0 1 0 0 0 1 1 0 1 0 0 0 1 0 0 1 1 0 1 0 0 0\n",
      "  1 1 1 0 0 0 1 0 1 0 1 1 0 1 1 0 0 1 1 0 0 0 0 1 0 0 1 1 1 1 1 0 0 1 0 1\n",
      "  1 1 1 0 1 1 0 0 1 0 1 0 1 0 1 1 0 1 1 0 1 0 0 1 0 0 0 1]]\n",
      "[2 2 0 1 0 2 1 1 3 0 1 1 2 2 0 2 0 0 2 2 2 0 2 1 1 2 1 1 1 2 1 1 1 1 2 0 2\n",
      " 2 2 0 2 1 2 1 2 1 3 2 0 1 2 0 1 2 2 1 0 1 1 2 2 1 1 2 2 2 3 2 1 1 1 2 2 2\n",
      " 3 1 2 2 2 1 2 1 2 0 2 0 1 3 2 1 2 1 3 2 1 1 2 1 1 1]\n",
      "0.38\n"
     ]
    }
   ],
   "source": [
    "#type your code here: \n",
    "# The same as the above but here the condition of success has changed \n",
    "sample = np.random.randint(0,2,size=(3,100)) # We have 3 coins now\n",
    "print(sample)\n",
    "mutual_occurance = np.sum(sample,axis=0) # The same\n",
    "print(mutual_occurance)\n",
    "success = mutual_occurance ==1 # Condition if just one head appeared\n",
    "summation = np.sum(success) #The same\n",
    "probability = summation / sample.shape[1] # The same\n",
    "print(probability) #The same"
   ]
  },
  {
   "cell_type": "markdown",
   "metadata": {},
   "source": [
    "3. Three biased coin flips with P(H) = 0.6 produce exactly one head"
   ]
  },
  {
   "cell_type": "code",
   "execution_count": 4,
   "metadata": {},
   "outputs": [
    {
     "name": "stdout",
     "output_type": "stream",
     "text": [
      "0.288592\n"
     ]
    }
   ],
   "source": [
    "#type your code here:\n",
    "sample = np.random.choice(2,size=(3,1000000),p=[0.4,0.6]) #The same but with different probabilities of occurance\n",
    "mutual_occurance = np.sum(sample,axis=0)\n",
    "success = mutual_occurance ==1\n",
    "summation = np.sum(success)\n",
    "probability = summation / sample.shape[1]\n",
    "print(probability)"
   ]
  },
  {
   "cell_type": "markdown",
   "metadata": {},
   "source": [
    "# Problem 2\n",
    "\n",
    "The probability of rain in a day is p = 0.5. Give the python code to simulate the probability of rain during weekend (**i.e rain on any one of the 2 weekend days Friday Or Saturday**) (assume independence between raining days). Compare the results with the theoretical probability."
   ]
  },
  {
   "cell_type": "code",
   "execution_count": 5,
   "metadata": {},
   "outputs": [
    {
     "name": "stdout",
     "output_type": "stream",
     "text": [
      "0.74999\n"
     ]
    }
   ],
   "source": [
    "#type your code here:\n",
    "sample = np.random.choice(2,size=(2,1000000),p=[0.5,0.5]) #The same idea we only have two days considered\n",
    "# if it rains = success \n",
    "mutual_occurance = np.sum(sample,axis=0) #The same\n",
    "success = mutual_occurance >= 1 # The condition is at least it rains in one day\n",
    "summation = np.sum(success) # The same\n",
    "probability = summation / sample.shape[1] #The same\n",
    "print(probability) #The same"
   ]
  },
  {
   "cell_type": "markdown",
   "metadata": {},
   "source": [
    "# Problem 3\n",
    "Simulate Rolling a fair die $1000$ times. Then calculate the following:\n",
    "\n",
    "- Sample mean\n",
    "- Sample variance\n",
    "- Sample standard deviation\n",
    "\n",
    "Compare the results with the theoretical probability."
   ]
  },
  {
   "cell_type": "code",
   "execution_count": 6,
   "metadata": {},
   "outputs": [
    {
     "name": "stdout",
     "output_type": "stream",
     "text": [
      "Sample mean: 3.563\n",
      "Sample variance: 2.960991991991992\n",
      "Sample standard deviation:  1.7207533210753923\n"
     ]
    }
   ],
   "source": [
    "#type your code here:\n",
    "# Here we have an example to simply calculate the mean of a sample\n",
    "sample = np.random.randint(1,7,1000) \n",
    "mean = np.sum(sample)/sample.shape[0]\n",
    "variance = np.sum((sample-mean)**2)/(sample.shape[0]-1)\n",
    "standard_deviation = np.sqrt(variance)\n",
    "print('Sample mean:',mean)\n",
    "print('Sample variance:',variance)\n",
    "print('Sample standard deviation: ',standard_deviation)"
   ]
  },
  {
   "cell_type": "code",
   "execution_count": null,
   "metadata": {},
   "outputs": [],
   "source": []
  }
 ],
 "metadata": {
  "kernelspec": {
   "display_name": "Python 3",
   "language": "python",
   "name": "python3"
  },
  "language_info": {
   "codemirror_mode": {
    "name": "ipython",
    "version": 3
   },
   "file_extension": ".py",
   "mimetype": "text/x-python",
   "name": "python",
   "nbconvert_exporter": "python",
   "pygments_lexer": "ipython3",
   "version": "3.8.5"
  }
 },
 "nbformat": 4,
 "nbformat_minor": 4
}
